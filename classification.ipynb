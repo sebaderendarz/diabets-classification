{
 "cells": [
  {
   "cell_type": "code",
   "execution_count": 17,
   "metadata": {
    "collapsed": true
   },
   "outputs": [],
   "source": [
    "import pyspark\n",
    "from pyspark.sql.functions import when, lit\n",
    "from pyspark.sql.types import IntegerType, FloatType\n",
    "from pyspark.ml.feature import VectorAssembler\n",
    "from pyspark.ml.classification import RandomForestClassifier\n",
    "from pyspark.ml.evaluation import BinaryClassificationEvaluator\n",
    "spark = pyspark.sql.SparkSession.builder.appName('SparkByExamples.com').getOrCreate()"
   ]
  },
  {
   "cell_type": "code",
   "execution_count": 18,
   "metadata": {
    "collapsed": false
   },
   "outputs": [],
   "source": [
    "df = spark.read.csv(\"diabetes.csv\", header=True)"
   ]
  },
  {
   "cell_type": "code",
   "execution_count": 19,
   "metadata": {
    "collapsed": false
   },
   "outputs": [
    {
     "data": {
      "text/html": [
       "<div>\n",
       "<style scoped>\n",
       "    .dataframe tbody tr th:only-of-type {\n",
       "        vertical-align: middle;\n",
       "    }\n",
       "\n",
       "    .dataframe tbody tr th {\n",
       "        vertical-align: top;\n",
       "    }\n",
       "\n",
       "    .dataframe thead th {\n",
       "        text-align: right;\n",
       "    }\n",
       "</style>\n",
       "<table border=\"1\" class=\"dataframe\">\n",
       "  <thead>\n",
       "    <tr style=\"text-align: right;\">\n",
       "      <th></th>\n",
       "      <th>Pregnancies</th>\n",
       "      <th>Glucose</th>\n",
       "      <th>BloodPressure</th>\n",
       "      <th>SkinThickness</th>\n",
       "      <th>Insulin</th>\n",
       "      <th>BMI</th>\n",
       "      <th>DiabetesPedigreeFunction</th>\n",
       "      <th>Age</th>\n",
       "      <th>Outcome</th>\n",
       "    </tr>\n",
       "  </thead>\n",
       "  <tbody>\n",
       "    <tr>\n",
       "      <th>0</th>\n",
       "      <td>6</td>\n",
       "      <td>148</td>\n",
       "      <td>72</td>\n",
       "      <td>35</td>\n",
       "      <td>0</td>\n",
       "      <td>33.6</td>\n",
       "      <td>0.627</td>\n",
       "      <td>50</td>\n",
       "      <td>1</td>\n",
       "    </tr>\n",
       "    <tr>\n",
       "      <th>1</th>\n",
       "      <td>1</td>\n",
       "      <td>85</td>\n",
       "      <td>66</td>\n",
       "      <td>29</td>\n",
       "      <td>0</td>\n",
       "      <td>26.6</td>\n",
       "      <td>0.351</td>\n",
       "      <td>31</td>\n",
       "      <td>0</td>\n",
       "    </tr>\n",
       "    <tr>\n",
       "      <th>2</th>\n",
       "      <td>8</td>\n",
       "      <td>183</td>\n",
       "      <td>64</td>\n",
       "      <td>0</td>\n",
       "      <td>0</td>\n",
       "      <td>23.3</td>\n",
       "      <td>0.672</td>\n",
       "      <td>32</td>\n",
       "      <td>1</td>\n",
       "    </tr>\n",
       "    <tr>\n",
       "      <th>3</th>\n",
       "      <td>1</td>\n",
       "      <td>89</td>\n",
       "      <td>66</td>\n",
       "      <td>23</td>\n",
       "      <td>94</td>\n",
       "      <td>28.1</td>\n",
       "      <td>0.167</td>\n",
       "      <td>21</td>\n",
       "      <td>0</td>\n",
       "    </tr>\n",
       "    <tr>\n",
       "      <th>4</th>\n",
       "      <td>0</td>\n",
       "      <td>137</td>\n",
       "      <td>40</td>\n",
       "      <td>35</td>\n",
       "      <td>168</td>\n",
       "      <td>43.1</td>\n",
       "      <td>2.288</td>\n",
       "      <td>33</td>\n",
       "      <td>1</td>\n",
       "    </tr>\n",
       "    <tr>\n",
       "      <th>...</th>\n",
       "      <td>...</td>\n",
       "      <td>...</td>\n",
       "      <td>...</td>\n",
       "      <td>...</td>\n",
       "      <td>...</td>\n",
       "      <td>...</td>\n",
       "      <td>...</td>\n",
       "      <td>...</td>\n",
       "      <td>...</td>\n",
       "    </tr>\n",
       "    <tr>\n",
       "      <th>763</th>\n",
       "      <td>10</td>\n",
       "      <td>101</td>\n",
       "      <td>76</td>\n",
       "      <td>48</td>\n",
       "      <td>180</td>\n",
       "      <td>32.9</td>\n",
       "      <td>0.171</td>\n",
       "      <td>63</td>\n",
       "      <td>0</td>\n",
       "    </tr>\n",
       "    <tr>\n",
       "      <th>764</th>\n",
       "      <td>2</td>\n",
       "      <td>122</td>\n",
       "      <td>70</td>\n",
       "      <td>27</td>\n",
       "      <td>0</td>\n",
       "      <td>36.8</td>\n",
       "      <td>0.34</td>\n",
       "      <td>27</td>\n",
       "      <td>0</td>\n",
       "    </tr>\n",
       "    <tr>\n",
       "      <th>765</th>\n",
       "      <td>5</td>\n",
       "      <td>121</td>\n",
       "      <td>72</td>\n",
       "      <td>23</td>\n",
       "      <td>112</td>\n",
       "      <td>26.2</td>\n",
       "      <td>0.245</td>\n",
       "      <td>30</td>\n",
       "      <td>0</td>\n",
       "    </tr>\n",
       "    <tr>\n",
       "      <th>766</th>\n",
       "      <td>1</td>\n",
       "      <td>126</td>\n",
       "      <td>60</td>\n",
       "      <td>0</td>\n",
       "      <td>0</td>\n",
       "      <td>30.1</td>\n",
       "      <td>0.349</td>\n",
       "      <td>47</td>\n",
       "      <td>1</td>\n",
       "    </tr>\n",
       "    <tr>\n",
       "      <th>767</th>\n",
       "      <td>1</td>\n",
       "      <td>93</td>\n",
       "      <td>70</td>\n",
       "      <td>31</td>\n",
       "      <td>0</td>\n",
       "      <td>30.4</td>\n",
       "      <td>0.315</td>\n",
       "      <td>23</td>\n",
       "      <td>0</td>\n",
       "    </tr>\n",
       "  </tbody>\n",
       "</table>\n",
       "<p>768 rows × 9 columns</p>\n",
       "</div>"
      ],
      "text/plain": [
       "    Pregnancies Glucose BloodPressure SkinThickness Insulin   BMI  \\\n",
       "0             6     148            72            35       0  33.6   \n",
       "1             1      85            66            29       0  26.6   \n",
       "2             8     183            64             0       0  23.3   \n",
       "3             1      89            66            23      94  28.1   \n",
       "4             0     137            40            35     168  43.1   \n",
       "..          ...     ...           ...           ...     ...   ...   \n",
       "763          10     101            76            48     180  32.9   \n",
       "764           2     122            70            27       0  36.8   \n",
       "765           5     121            72            23     112  26.2   \n",
       "766           1     126            60             0       0  30.1   \n",
       "767           1      93            70            31       0  30.4   \n",
       "\n",
       "    DiabetesPedigreeFunction Age Outcome  \n",
       "0                      0.627  50       1  \n",
       "1                      0.351  31       0  \n",
       "2                      0.672  32       1  \n",
       "3                      0.167  21       0  \n",
       "4                      2.288  33       1  \n",
       "..                       ...  ..     ...  \n",
       "763                    0.171  63       0  \n",
       "764                     0.34  27       0  \n",
       "765                    0.245  30       0  \n",
       "766                    0.349  47       1  \n",
       "767                    0.315  23       0  \n",
       "\n",
       "[768 rows x 9 columns]"
      ]
     },
     "execution_count": 19,
     "metadata": {},
     "output_type": "execute_result"
    }
   ],
   "source": [
    "df.toPandas()"
   ]
  },
  {
   "cell_type": "code",
   "execution_count": 20,
   "metadata": {
    "collapsed": false
   },
   "outputs": [
    {
     "name": "stdout",
     "output_type": "stream",
     "text": [
      "+-------+------------------+-----------------+------------------+------------------+------------------+------------------+------------------------+------------------+------------------+\n",
      "|summary|       Pregnancies|          Glucose|     BloodPressure|     SkinThickness|           Insulin|               BMI|DiabetesPedigreeFunction|               Age|           Outcome|\n",
      "+-------+------------------+-----------------+------------------+------------------+------------------+------------------+------------------------+------------------+------------------+\n",
      "|  count|               768|              768|               768|               768|               768|               768|                     768|               768|               768|\n",
      "|   mean|3.8450520833333335|     120.89453125|       69.10546875|20.536458333333332| 79.79947916666667|31.992578124999977|      0.4718763020833327|33.240885416666664|0.3489583333333333|\n",
      "| stddev|  3.36957806269887|31.97261819513622|19.355807170644777|15.952217567727642|115.24400235133803| 7.884160320375441|       0.331328595012775|11.760231540678689| 0.476951377242799|\n",
      "|    min|                 0|                0|                 0|                 0|                 0|                 0|                   0.078|                21|                 0|\n",
      "|    max|                 9|               99|                98|                99|                99|              67.1|                    2.42|                81|                 1|\n",
      "+-------+------------------+-----------------+------------------+------------------+------------------+------------------+------------------------+------------------+------------------+\n",
      "\n"
     ]
    }
   ],
   "source": [
    "df.select(\"Pregnancies\", \"Glucose\", \"BloodPressure\", \"SkinThickness\", \"Insulin\", \"BMI\", \"DiabetesPedigreeFunction\", \"Age\", \"Outcome\").describe().show()"
   ]
  },
  {
   "cell_type": "code",
   "execution_count": 21,
   "metadata": {
    "collapsed": false
   },
   "outputs": [
    {
     "data": {
      "text/html": [
       "<div>\n",
       "<style scoped>\n",
       "    .dataframe tbody tr th:only-of-type {\n",
       "        vertical-align: middle;\n",
       "    }\n",
       "\n",
       "    .dataframe tbody tr th {\n",
       "        vertical-align: top;\n",
       "    }\n",
       "\n",
       "    .dataframe thead th {\n",
       "        text-align: right;\n",
       "    }\n",
       "</style>\n",
       "<table border=\"1\" class=\"dataframe\">\n",
       "  <thead>\n",
       "    <tr style=\"text-align: right;\">\n",
       "      <th></th>\n",
       "      <th>Pregnancies</th>\n",
       "      <th>Glucose</th>\n",
       "      <th>BloodPressure</th>\n",
       "      <th>SkinThickness</th>\n",
       "      <th>Insulin</th>\n",
       "      <th>BMI</th>\n",
       "      <th>DiabetesPedigreeFunction</th>\n",
       "      <th>Age</th>\n",
       "      <th>Outcome</th>\n",
       "    </tr>\n",
       "  </thead>\n",
       "  <tbody>\n",
       "  </tbody>\n",
       "</table>\n",
       "</div>"
      ],
      "text/plain": [
       "Empty DataFrame\n",
       "Columns: [Pregnancies, Glucose, BloodPressure, SkinThickness, Insulin, BMI, DiabetesPedigreeFunction, Age, Outcome]\n",
       "Index: []"
      ]
     },
     "execution_count": 21,
     "metadata": {},
     "output_type": "execute_result"
    }
   ],
   "source": [
    "# Check if there are duplicates\n",
    "new_df = df.dropDuplicates()\n",
    "new_df = df.exceptAll(new_df)\n",
    "new_df.toPandas()"
   ]
  },
  {
   "cell_type": "code",
   "execution_count": 22,
   "metadata": {
    "collapsed": false
   },
   "outputs": [
    {
     "name": "stdout",
     "output_type": "stream",
     "text": [
      "+-----------+-------+-------------+-------------+-------+---+------------------------+---+-------+\n",
      "|Pregnancies|Glucose|BloodPressure|SkinThickness|Insulin|BMI|DiabetesPedigreeFunction|Age|Outcome|\n",
      "+-----------+-------+-------------+-------------+-------+---+------------------------+---+-------+\n",
      "+-----------+-------+-------------+-------------+-------+---+------------------------+---+-------+\n",
      "\n"
     ]
    }
   ],
   "source": [
    "# Check if there are null values\n",
    "df_with_nulls = df.filter(df.Pregnancies.isNull() & df.Glucose.isNull() & df.BloodPressure.isNull() & df.SkinThickness.isNull() & df.Insulin.isNull() & df.BMI.isNull() & df.DiabetesPedigreeFunction.isNull() & df.Age.isNull() & df.Outcome.isNull()).show()\n"
   ]
  },
  {
   "cell_type": "code",
   "execution_count": 23,
   "metadata": {
    "collapsed": false
   },
   "outputs": [
    {
     "data": {
      "text/plain": [
       "DataFrame[summary: string, Pregnancies: string, Glucose: string, BloodPressure: string, SkinThickness: string, Insulin: string, BMI: string, DiabetesPedigreeFunction: string, Age: string, Outcome: string]"
      ]
     },
     "execution_count": 23,
     "metadata": {},
     "output_type": "execute_result"
    }
   ],
   "source": [
    "df.describe()"
   ]
  },
  {
   "cell_type": "code",
   "execution_count": 24,
   "metadata": {
    "collapsed": false
   },
   "outputs": [],
   "source": [
    "# Convert data types\n",
    "df = df.withColumn(\"Glucose\", df.Glucose.cast(IntegerType()))\n",
    "df = df.withColumn(\"BloodPressure\", df.BloodPressure.cast(IntegerType()))\n",
    "df = df.withColumn(\"SkinThickness\", df.SkinThickness.cast(IntegerType()))\n",
    "df = df.withColumn(\"Insulin\", df.Insulin.cast(IntegerType()))\n",
    "df = df.withColumn(\"BMI\", df.BMI.cast(FloatType()))\n",
    "df = df.withColumn(\"DiabetesPedigreeFunction\", df.DiabetesPedigreeFunction.cast(FloatType()))\n",
    "df = df.withColumn(\"Age\", df.Age.cast(IntegerType()))\n",
    "df = df.withColumn(\"Outcome\", df.Outcome.cast(IntegerType()))"
   ]
  },
  {
   "cell_type": "code",
   "execution_count": 25,
   "metadata": {
    "collapsed": false
   },
   "outputs": [
    {
     "data": {
      "text/html": [
       "<div>\n",
       "<style scoped>\n",
       "    .dataframe tbody tr th:only-of-type {\n",
       "        vertical-align: middle;\n",
       "    }\n",
       "\n",
       "    .dataframe tbody tr th {\n",
       "        vertical-align: top;\n",
       "    }\n",
       "\n",
       "    .dataframe thead th {\n",
       "        text-align: right;\n",
       "    }\n",
       "</style>\n",
       "<table border=\"1\" class=\"dataframe\">\n",
       "  <thead>\n",
       "    <tr style=\"text-align: right;\">\n",
       "      <th></th>\n",
       "      <th>Pregnancies</th>\n",
       "      <th>Glucose</th>\n",
       "      <th>BloodPressure</th>\n",
       "      <th>SkinThickness</th>\n",
       "      <th>Insulin</th>\n",
       "      <th>BMI</th>\n",
       "      <th>DiabetesPedigreeFunction</th>\n",
       "      <th>Age</th>\n",
       "      <th>Outcome</th>\n",
       "    </tr>\n",
       "  </thead>\n",
       "  <tbody>\n",
       "    <tr>\n",
       "      <th>0</th>\n",
       "      <td>6</td>\n",
       "      <td>148.0</td>\n",
       "      <td>72.0</td>\n",
       "      <td>35.000000</td>\n",
       "      <td>79.799479</td>\n",
       "      <td>33.599998</td>\n",
       "      <td>0.627</td>\n",
       "      <td>50</td>\n",
       "      <td>1</td>\n",
       "    </tr>\n",
       "    <tr>\n",
       "      <th>1</th>\n",
       "      <td>1</td>\n",
       "      <td>85.0</td>\n",
       "      <td>66.0</td>\n",
       "      <td>29.000000</td>\n",
       "      <td>79.799479</td>\n",
       "      <td>26.600000</td>\n",
       "      <td>0.351</td>\n",
       "      <td>31</td>\n",
       "      <td>0</td>\n",
       "    </tr>\n",
       "    <tr>\n",
       "      <th>2</th>\n",
       "      <td>8</td>\n",
       "      <td>183.0</td>\n",
       "      <td>64.0</td>\n",
       "      <td>20.536458</td>\n",
       "      <td>79.799479</td>\n",
       "      <td>23.299999</td>\n",
       "      <td>0.672</td>\n",
       "      <td>32</td>\n",
       "      <td>1</td>\n",
       "    </tr>\n",
       "    <tr>\n",
       "      <th>3</th>\n",
       "      <td>1</td>\n",
       "      <td>89.0</td>\n",
       "      <td>66.0</td>\n",
       "      <td>23.000000</td>\n",
       "      <td>94.000000</td>\n",
       "      <td>28.100000</td>\n",
       "      <td>0.167</td>\n",
       "      <td>21</td>\n",
       "      <td>0</td>\n",
       "    </tr>\n",
       "    <tr>\n",
       "      <th>4</th>\n",
       "      <td>0</td>\n",
       "      <td>137.0</td>\n",
       "      <td>40.0</td>\n",
       "      <td>35.000000</td>\n",
       "      <td>168.000000</td>\n",
       "      <td>43.099998</td>\n",
       "      <td>2.288</td>\n",
       "      <td>33</td>\n",
       "      <td>1</td>\n",
       "    </tr>\n",
       "    <tr>\n",
       "      <th>...</th>\n",
       "      <td>...</td>\n",
       "      <td>...</td>\n",
       "      <td>...</td>\n",
       "      <td>...</td>\n",
       "      <td>...</td>\n",
       "      <td>...</td>\n",
       "      <td>...</td>\n",
       "      <td>...</td>\n",
       "      <td>...</td>\n",
       "    </tr>\n",
       "    <tr>\n",
       "      <th>763</th>\n",
       "      <td>10</td>\n",
       "      <td>101.0</td>\n",
       "      <td>76.0</td>\n",
       "      <td>48.000000</td>\n",
       "      <td>180.000000</td>\n",
       "      <td>32.900002</td>\n",
       "      <td>0.171</td>\n",
       "      <td>63</td>\n",
       "      <td>0</td>\n",
       "    </tr>\n",
       "    <tr>\n",
       "      <th>764</th>\n",
       "      <td>2</td>\n",
       "      <td>122.0</td>\n",
       "      <td>70.0</td>\n",
       "      <td>27.000000</td>\n",
       "      <td>79.799479</td>\n",
       "      <td>36.799999</td>\n",
       "      <td>0.340</td>\n",
       "      <td>27</td>\n",
       "      <td>0</td>\n",
       "    </tr>\n",
       "    <tr>\n",
       "      <th>765</th>\n",
       "      <td>5</td>\n",
       "      <td>121.0</td>\n",
       "      <td>72.0</td>\n",
       "      <td>23.000000</td>\n",
       "      <td>112.000000</td>\n",
       "      <td>26.200001</td>\n",
       "      <td>0.245</td>\n",
       "      <td>30</td>\n",
       "      <td>0</td>\n",
       "    </tr>\n",
       "    <tr>\n",
       "      <th>766</th>\n",
       "      <td>1</td>\n",
       "      <td>126.0</td>\n",
       "      <td>60.0</td>\n",
       "      <td>20.536458</td>\n",
       "      <td>79.799479</td>\n",
       "      <td>30.100000</td>\n",
       "      <td>0.349</td>\n",
       "      <td>47</td>\n",
       "      <td>1</td>\n",
       "    </tr>\n",
       "    <tr>\n",
       "      <th>767</th>\n",
       "      <td>1</td>\n",
       "      <td>93.0</td>\n",
       "      <td>70.0</td>\n",
       "      <td>31.000000</td>\n",
       "      <td>79.799479</td>\n",
       "      <td>30.400000</td>\n",
       "      <td>0.315</td>\n",
       "      <td>23</td>\n",
       "      <td>0</td>\n",
       "    </tr>\n",
       "  </tbody>\n",
       "</table>\n",
       "<p>768 rows × 9 columns</p>\n",
       "</div>"
      ],
      "text/plain": [
       "    Pregnancies  Glucose  BloodPressure  SkinThickness     Insulin        BMI  \\\n",
       "0             6    148.0           72.0      35.000000   79.799479  33.599998   \n",
       "1             1     85.0           66.0      29.000000   79.799479  26.600000   \n",
       "2             8    183.0           64.0      20.536458   79.799479  23.299999   \n",
       "3             1     89.0           66.0      23.000000   94.000000  28.100000   \n",
       "4             0    137.0           40.0      35.000000  168.000000  43.099998   \n",
       "..          ...      ...            ...            ...         ...        ...   \n",
       "763          10    101.0           76.0      48.000000  180.000000  32.900002   \n",
       "764           2    122.0           70.0      27.000000   79.799479  36.799999   \n",
       "765           5    121.0           72.0      23.000000  112.000000  26.200001   \n",
       "766           1    126.0           60.0      20.536458   79.799479  30.100000   \n",
       "767           1     93.0           70.0      31.000000   79.799479  30.400000   \n",
       "\n",
       "     DiabetesPedigreeFunction  Age  Outcome  \n",
       "0                       0.627   50        1  \n",
       "1                       0.351   31        0  \n",
       "2                       0.672   32        1  \n",
       "3                       0.167   21        0  \n",
       "4                       2.288   33        1  \n",
       "..                        ...  ...      ...  \n",
       "763                     0.171   63        0  \n",
       "764                     0.340   27        0  \n",
       "765                     0.245   30        0  \n",
       "766                     0.349   47        1  \n",
       "767                     0.315   23        0  \n",
       "\n",
       "[768 rows x 9 columns]"
      ]
     },
     "execution_count": 25,
     "metadata": {},
     "output_type": "execute_result"
    }
   ],
   "source": [
    "# Fix zero values\n",
    "df = df.withColumn(\"Glucose\", when(df.Glucose == 0, lit(df.groupBy().mean(\"Glucose\").take(1)[0][0])).otherwise(df.Glucose))\n",
    "df = df.withColumn(\"Insulin\", when(df.Insulin == 0, lit(df.groupBy().mean(\"Insulin\").take(1)[0][0])).otherwise(df.Insulin))\n",
    "df = df.withColumn(\"BloodPressure\", when(df.BloodPressure == 0, lit(df.groupBy().mean(\"BloodPressure\").take(1)[0][0])).otherwise(df.BloodPressure))\n",
    "df = df.withColumn(\"SkinThickness\", when(df.SkinThickness == 0, lit(df.groupBy().mean(\"SkinThickness\").take(1)[0][0])).otherwise(df.SkinThickness))\n",
    "df = df.withColumn(\"BMI\", when(df.BMI == 0, lit(df.groupBy().mean(\"BMI\").take(1)[0][0])).otherwise(df.BMI))\n",
    "df.toPandas()\n"
   ]
  },
  {
   "cell_type": "code",
   "execution_count": 26,
   "metadata": {
    "collapsed": false
   },
   "outputs": [],
   "source": [
    "df = df.withColumn(\"Pregnancies\", df.Pregnancies.cast(IntegerType()))\n",
    "df = df.withColumn(\"Glucose\", df.Glucose.cast(IntegerType()))\n",
    "df = df.withColumn(\"Glucose\", df.Glucose.cast(FloatType()))\n",
    "df = df.withColumn(\"BloodPressure\", df.BloodPressure.cast(FloatType()))\n",
    "df = df.withColumn(\"SkinThickness\", df.SkinThickness.cast(FloatType()))\n",
    "df = df.withColumn(\"Insulin\", df.Insulin.cast(FloatType()))\n",
    "df = df.withColumn(\"BMI\", df.BMI.cast(FloatType()))\n",
    "df = df.withColumn(\"DiabetesPedigreeFunction\", df.DiabetesPedigreeFunction.cast(FloatType()))\n",
    "df = df.withColumn(\"Age\", df.Age.cast(IntegerType()))\n",
    "df = df.withColumn(\"Outcome\", df.Outcome.cast(IntegerType()))"
   ]
  },
  {
   "cell_type": "code",
   "execution_count": 27,
   "metadata": {
    "collapsed": false
   },
   "outputs": [
    {
     "name": "stdout",
     "output_type": "stream",
     "text": [
      "+-------+------------------+----------------+------------------+-----------------+------------------+------------------+------------------------+------------------+------------------+\n",
      "|summary|       Pregnancies|         Glucose|     BloodPressure|    SkinThickness|           Insulin|               BMI|DiabetesPedigreeFunction|               Age|           Outcome|\n",
      "+-------+------------------+----------------+------------------+-----------------+------------------+------------------+------------------------+------------------+------------------+\n",
      "|  count|               768|             768|               768|              768|               768|               768|                     768|               768|               768|\n",
      "|   mean|3.8450520833333335|    121.67578125| 72.25480651855469|26.60647940884034|118.66016179323196|32.450805174807705|      0.4718763029280429|33.240885416666664|0.3489583333333333|\n",
      "| stddev|  3.36957806269887|30.4362515773519|12.115931598253848|9.631240592193393| 93.08035816937695| 6.875373474745889|      0.3313285967924436|11.760231540678689| 0.476951377242799|\n",
      "|    min|                 0|            44.0|              24.0|              7.0|              14.0|              18.2|                   0.078|                21|                 0|\n",
      "|    max|                17|           199.0|             122.0|             99.0|             846.0|              67.1|                    2.42|                81|                 1|\n",
      "+-------+------------------+----------------+------------------+-----------------+------------------+------------------+------------------------+------------------+------------------+\n",
      "\n"
     ]
    }
   ],
   "source": [
    "df.select(\"Pregnancies\", \"Glucose\", \"BloodPressure\", \"SkinThickness\", \"Insulin\", \"BMI\", \"DiabetesPedigreeFunction\", \"Age\", \"Outcome\").describe().show()"
   ]
  },
  {
   "cell_type": "code",
   "execution_count": 28,
   "metadata": {
    "collapsed": false
   },
   "outputs": [
    {
     "name": "stdout",
     "output_type": "stream",
     "text": [
      "+-----------+-------+-------------+-------------+--------+---------+------------------------+---+-------+--------------------+\n",
      "|Pregnancies|Glucose|BloodPressure|SkinThickness| Insulin|      BMI|DiabetesPedigreeFunction|Age|Outcome|            features|\n",
      "+-----------+-------+-------------+-------------+--------+---------+------------------------+---+-------+--------------------+\n",
      "|          6|  148.0|         72.0|         35.0|79.79948|     33.6|                   0.627| 50|      1|[6.0,148.0,72.0,3...|\n",
      "|          1|   85.0|         66.0|         29.0|79.79948|     26.6|                   0.351| 31|      0|[1.0,85.0,66.0,29...|\n",
      "|          8|  183.0|         64.0|    20.536459|79.79948|     23.3|                   0.672| 32|      1|[8.0,183.0,64.0,2...|\n",
      "|          1|   89.0|         66.0|         23.0|    94.0|     28.1|                   0.167| 21|      0|[1.0,89.0,66.0,23...|\n",
      "|          0|  137.0|         40.0|         35.0|   168.0|     43.1|                   2.288| 33|      1|[0.0,137.0,40.0,3...|\n",
      "|          5|  116.0|         74.0|    20.536459|79.79948|     25.6|                   0.201| 30|      0|[5.0,116.0,74.0,2...|\n",
      "|          3|   78.0|         50.0|         32.0|    88.0|     31.0|                   0.248| 26|      1|[3.0,78.0,50.0,32...|\n",
      "|         10|  115.0|     69.10547|    20.536459|79.79948|     35.3|                   0.134| 29|      0|[10.0,115.0,69.10...|\n",
      "|          2|  197.0|         70.0|         45.0|   543.0|     30.5|                   0.158| 53|      1|[2.0,197.0,70.0,4...|\n",
      "|          8|  125.0|         96.0|    20.536459|79.79948|31.992579|                   0.232| 54|      1|[8.0,125.0,96.0,2...|\n",
      "|          4|  110.0|         92.0|    20.536459|79.79948|     37.6|                   0.191| 30|      0|[4.0,110.0,92.0,2...|\n",
      "|         10|  168.0|         74.0|    20.536459|79.79948|     38.0|                   0.537| 34|      1|[10.0,168.0,74.0,...|\n",
      "|         10|  139.0|         80.0|    20.536459|79.79948|     27.1|                   1.441| 57|      0|[10.0,139.0,80.0,...|\n",
      "|          1|  189.0|         60.0|         23.0|   846.0|     30.1|                   0.398| 59|      1|[1.0,189.0,60.0,2...|\n",
      "|          5|  166.0|         72.0|         19.0|   175.0|     25.8|                   0.587| 51|      1|[5.0,166.0,72.0,1...|\n",
      "|          7|  100.0|     69.10547|    20.536459|79.79948|     30.0|                   0.484| 32|      1|[7.0,100.0,69.105...|\n",
      "|          0|  118.0|         84.0|         47.0|   230.0|     45.8|                   0.551| 31|      1|[0.0,118.0,84.0,4...|\n",
      "|          7|  107.0|         74.0|    20.536459|79.79948|     29.6|                   0.254| 31|      1|[7.0,107.0,74.0,2...|\n",
      "|          1|  103.0|         30.0|         38.0|    83.0|     43.3|                   0.183| 33|      0|[1.0,103.0,30.0,3...|\n",
      "|          1|  115.0|         70.0|         30.0|    96.0|     34.6|                   0.529| 32|      1|[1.0,115.0,70.0,3...|\n",
      "+-----------+-------+-------------+-------------+--------+---------+------------------------+---+-------+--------------------+\n",
      "only showing top 20 rows\n",
      "\n"
     ]
    }
   ],
   "source": [
    "# Select features\n",
    "features = ['Pregnancies', 'Glucose', 'BloodPressure', 'SkinThickness', 'Insulin',\n",
    "       'BMI', 'DiabetesPedigreeFunction', 'Age']\n",
    "assembler = VectorAssembler(inputCols=features, outputCol=\"features\")\n",
    "df = assembler.transform(df)\n",
    "df.show()\n"
   ]
  },
  {
   "cell_type": "code",
   "execution_count": 29,
   "metadata": {
    "collapsed": false
   },
   "outputs": [
    {
     "name": "stdout",
     "output_type": "stream",
     "text": [
      "Training Dataset Count: 522\n",
      "Test Dataset Count: 246\n"
     ]
    }
   ],
   "source": [
    "# Split to train and test datasets\n",
    "train, test = df.randomSplit([0.7, 0.3], seed=2023)\n",
    "print(\"Training Dataset Count: \" + str(train.count()))\n",
    "print(\"Test Dataset Count: \" + str(test.count()))\n"
   ]
  },
  {
   "cell_type": "code",
   "execution_count": 30,
   "metadata": {
    "collapsed": false
   },
   "outputs": [
    {
     "name": "stdout",
     "output_type": "stream",
     "text": [
      "+-----------+-------+-------------+-------------+--------+----+------------------------+---+-------+--------------------+----------+--------------------+\n",
      "|Pregnancies|Glucose|BloodPressure|SkinThickness| Insulin| BMI|DiabetesPedigreeFunction|Age|Outcome|       rawPrediction|prediction|         probability|\n",
      "+-----------+-------+-------------+-------------+--------+----+------------------------+---+-------+--------------------+----------+--------------------+\n",
      "|          0|   84.0|         64.0|         22.0|    66.0|35.8|                   0.545| 21|      0|[16.6616657749355...|       0.0|[0.83308328874677...|\n",
      "|          0|   91.0|         80.0|    20.536459|79.79948|32.4|                   0.601| 27|      0|[15.3568195084238...|       0.0|[0.76784097542119...|\n",
      "|          0|   93.0|         60.0|         25.0|    92.0|28.7|                   0.532| 22|      0|[18.7369341340645...|       0.0|[0.93684670670322...|\n",
      "|          0|   95.0|         85.0|         25.0|    36.0|37.4|                   0.247| 24|      1|[18.5964949820819...|       0.0|[0.92982474910409...|\n",
      "|          0|   98.0|         82.0|         15.0|    84.0|25.2|                   0.299| 22|      0|[19.0494884629226...|       0.0|[0.95247442314613...|\n",
      "|          0|   99.0|     69.10547|    20.536459|79.79948|25.0|                   0.253| 22|      0|[19.0734449057538...|       0.0|[0.95367224528769...|\n",
      "|          0|  102.0|         52.0|    20.536459|79.79948|25.1|                   0.078| 21|      0|[19.1122137424024...|       0.0|[0.95561068712012...|\n",
      "|          0|  102.0|         64.0|         46.0|    78.0|40.6|                   0.496| 21|      0|[16.3456774708490...|       0.0|[0.81728387354245...|\n",
      "|          0|  102.0|         86.0|         17.0|   105.0|29.3|                   0.695| 27|      0|[13.5697893463851...|       0.0|[0.67848946731925...|\n",
      "|          0|  105.0|         64.0|         41.0|   142.0|41.5|                   0.173| 22|      0|[14.7780985580382...|       0.0|[0.73890492790191...|\n",
      "|          0|  107.0|         60.0|         25.0|79.79948|26.4|                   0.133| 23|      0|[19.1122137424024...|       0.0|[0.95561068712012...|\n",
      "|          0|  117.0|         80.0|         31.0|    53.0|45.2|                   0.089| 24|      0|[13.3499065577226...|       0.0|[0.66749532788613...|\n",
      "|          0|  118.0|         84.0|         47.0|   230.0|45.8|                   0.551| 31|      1|[12.3214367566314...|       0.0|[0.61607183783157...|\n",
      "|          0|  119.0|         64.0|         18.0|    92.0|34.9|                   0.725| 23|      0|[11.2699289129757...|       0.0|[0.56349644564878...|\n",
      "|          0|  119.0|         66.0|         27.0|79.79948|38.8|                   0.259| 22|      0|[15.2806746372533...|       0.0|[0.76403373186266...|\n",
      "|          0|  125.0|         68.0|    20.536459|79.79948|24.7|                   0.206| 21|      0|[18.7281358514390...|       0.0|[0.93640679257195...|\n",
      "|          0|  125.0|         96.0|    20.536459|79.79948|22.5|                   0.262| 21|      0|[18.7041794086078...|       0.0|[0.93520897043039...|\n",
      "|          0|  126.0|         86.0|         27.0|   120.0|27.4|                   0.515| 21|      0|[17.3851648146976...|       0.0|[0.86925824073488...|\n",
      "|          0|  127.0|         80.0|         37.0|   210.0|36.3|                   0.804| 23|      0|[12.3384410139962...|       0.0|[0.61692205069981...|\n",
      "|          0|  129.0|         80.0|    20.536459|79.79948|31.2|                   0.703| 29|      0|[9.46182940312518...|       1.0|[0.47309147015625...|\n",
      "+-----------+-------+-------------+-------------+--------+----+------------------------+---+-------+--------------------+----------+--------------------+\n",
      "only showing top 20 rows\n",
      "\n"
     ]
    }
   ],
   "source": [
    "# Run classification model\n",
    "rf = RandomForestClassifier(featuresCol=\"features\", labelCol=\"Outcome\")\n",
    "rfModel = rf.fit(train)\n",
    "predictions = rfModel.transform(test)\n",
    "predictions.select(\"Pregnancies\", \"Glucose\", \"BloodPressure\", \"SkinThickness\", \"Insulin\", \"BMI\", \"DiabetesPedigreeFunction\", \"Age\", \"Outcome\", \"rawPrediction\", \"prediction\", \"probability\").show()"
   ]
  },
  {
   "cell_type": "code",
   "execution_count": 31,
   "metadata": {
    "collapsed": false
   },
   "outputs": [
    {
     "name": "stdout",
     "output_type": "stream",
     "text": [
      "+-------+----------+\n",
      "|Outcome|prediction|\n",
      "+-------+----------+\n",
      "|      0|       0.0|\n",
      "|      0|       0.0|\n",
      "|      0|       0.0|\n",
      "|      1|       0.0|\n",
      "|      0|       0.0|\n",
      "|      0|       0.0|\n",
      "|      0|       0.0|\n",
      "|      0|       0.0|\n",
      "|      0|       0.0|\n",
      "|      0|       0.0|\n",
      "+-------+----------+\n",
      "only showing top 10 rows\n",
      "\n"
     ]
    }
   ],
   "source": [
    "predictions.select(\"Outcome\", \"prediction\").show(10)\n"
   ]
  },
  {
   "cell_type": "code",
   "execution_count": 32,
   "metadata": {
    "collapsed": false
   },
   "outputs": [
    {
     "name": "stdout",
     "output_type": "stream",
     "text": [
      "Accuracy = 0.8481779880257216\n",
      "Test Error = 0.15182201197427836\n"
     ]
    }
   ],
   "source": [
    "# Evaluate classification accuracy\n",
    "evaluator = BinaryClassificationEvaluator(labelCol=\"Outcome\", rawPredictionCol=\"rawPrediction\")\n",
    "accurracy = evaluator.evaluate(predictions)\n",
    "print(\"Accuracy = %s\" % accurracy)\n",
    "print(\"Test Error = %s\" % (1.0 - accurracy))\n"
   ]
  }
 ],
 "metadata": {
  "kernelspec": {
   "display_name": "Python 3",
   "language": "python",
   "name": "python3"
  },
  "language_info": {
   "codemirror_mode": {
    "name": "ipython",
    "version": 2
   },
   "file_extension": ".py",
   "mimetype": "text/x-python",
   "name": "python",
   "nbconvert_exporter": "python",
   "pygments_lexer": "ipython2",
   "version": "2.7.6"
  }
 },
 "nbformat": 4,
 "nbformat_minor": 0
}
